{
 "cells": [
  {
   "cell_type": "markdown",
   "metadata": {},
   "source": [
    "## Top 250 Movies of All Times"
   ]
  },
  {
   "cell_type": "code",
   "execution_count": 7,
   "metadata": {},
   "outputs": [],
   "source": [
    "import pandas as pd\n",
    "import numpy as np\n",
    "from bs4 import BeautifulSoup\n",
    "import requests"
   ]
  },
  {
   "cell_type": "markdown",
   "metadata": {},
   "source": [
    "Assigning the website (IMDB movie ratings) we are interested in scraping the data from"
   ]
  },
  {
   "cell_type": "code",
   "execution_count": 8,
   "metadata": {},
   "outputs": [],
   "source": [
    "url = ('https://www.imdb.com/chart/top/?ref_=nv_mv_250')"
   ]
  },
  {
   "cell_type": "markdown",
   "metadata": {},
   "source": [
    "Making the request from python on the webiste using requests.get() method"
   ]
  },
  {
   "cell_type": "code",
   "execution_count": 9,
   "metadata": {},
   "outputs": [],
   "source": [
    "r = requests.get(url)"
   ]
  },
  {
   "cell_type": "markdown",
   "metadata": {},
   "source": [
    "Calling BeautifulSoup object and will use html parser to read the data "
   ]
  },
  {
   "cell_type": "code",
   "execution_count": 10,
   "metadata": {},
   "outputs": [],
   "source": [
    "top250_soup = BeautifulSoup(r.content, 'html.parser')"
   ]
  },
  {
   "cell_type": "markdown",
   "metadata": {},
   "source": [
    "Extracting the names of movies and saving them in a list named movie_name"
   ]
  },
  {
   "cell_type": "code",
   "execution_count": 12,
   "metadata": {},
   "outputs": [],
   "source": [
    "movie_name = []\n",
    "\n",
    "for i in top250_soup.find_all('td', {'class' : 'titleColumn'}):\n",
    "    for x in i.find_all(\"a\"):\n",
    "        name = x.text\n",
    "        movie_name.append(name)"
   ]
  },
  {
   "cell_type": "markdown",
   "metadata": {},
   "source": [
    "Printing the list of movies"
   ]
  },
  {
   "cell_type": "code",
   "execution_count": 13,
   "metadata": {},
   "outputs": [
    {
     "name": "stdout",
     "output_type": "stream",
     "text": [
      "['The Shawshank Redemption', 'The Godfather', 'The Godfather: Part II', 'The Dark Knight', '12 Angry Men', \"Schindler's List\", 'The Lord of the Rings: The Return of the King', 'Pulp Fiction', 'The Good, the Bad and the Ugly', 'The Lord of the Rings: The Fellowship of the Ring', 'Fight Club', 'Forrest Gump', 'Inception', 'The Lord of the Rings: The Two Towers', 'Star Wars: Episode V - The Empire Strikes Back', 'The Matrix', 'Goodfellas', \"One Flew Over the Cuckoo's Nest\", 'Seven Samurai', 'Se7en', 'Life Is Beautiful', 'City of God', 'The Silence of the Lambs', \"It's a Wonderful Life\", 'Star Wars: Episode IV - A New Hope', 'Saving Private Ryan', 'The Green Mile', 'Spirited Away', 'Interstellar', 'Parasite', 'Léon: The Professional', 'The Usual Suspects', 'Hara-Kiri', 'The Lion King', 'The Pianist', 'Back to the Future', 'Terminator 2: Judgment Day', 'American History X', 'Modern Times', 'Gladiator', 'Psycho', 'The Departed', 'City Lights', 'The Intouchables', 'Whiplash', 'Grave of the Fireflies', 'The Prestige', 'Once Upon a Time in the West', 'Casablanca', 'Cinema Paradiso', 'Rear Window', 'Alien', 'Apocalypse Now', 'Memento', 'The Great Dictator', 'Raiders of the Lost Ark', 'Hamilton', 'Django Unchained', 'The Lives of Others', 'Paths of Glory', 'Joker', 'WALL·E', 'The Shining', 'Avengers: Infinity War', 'Sunset Blvd.', 'Witness for the Prosecution', 'Oldboy', 'Princess Mononoke', 'Spider-Man: Into the Spider-Verse', 'Dr. Strangelove or: How I Learned to Stop Worrying and Love the Bomb', 'The Dark Knight Rises', 'Once Upon a Time in America', 'Your Name.', 'Aliens', 'Coco', 'Avengers: Endgame', 'American Beauty', 'Braveheart', 'Capharnaüm', 'Das Boot', 'Toy Story', '3 Idiots', 'High and Low', 'Amadeus', 'Inglourious Basterds', 'Star Wars: Episode VI - Return of the Jedi', 'Good Will Hunting', 'Taare Zameen Par', 'Reservoir Dogs', '2001: A Space Odyssey', 'Requiem for a Dream', 'Vertigo', 'M', 'The Hunt', 'Eternal Sunshine of the Spotless Mind', 'Citizen Kane', 'Dangal', 'Full Metal Jacket', 'Bicycle Thieves', \"Singin' in the Rain\", 'The Kid', 'Snatch', 'North by Northwest', 'A Clockwork Orange', 'Come and See', 'Scarface', '1917', 'Ikiru', 'Taxi Driver', 'Incendies', 'Toy Story 3', 'A Separation', 'Lawrence of Arabia', 'Amélie', 'The Sting', 'Metropolis', 'For a Few Dollars More', 'The Apartment', 'Double Indemnity', 'To Kill a Mockingbird', 'Up', 'Indiana Jones and the Last Crusade', 'Heat', 'L.A. Confidential', 'Die Hard', 'Green Book', 'Monty Python and the Holy Grail', 'Batman Begins', 'Yojimbo', 'Rashômon', 'Downfall', 'Children of Heaven', 'Unforgiven', 'Ran', 'Some Like It Hot', \"Howl's Moving Castle\", 'All About Eve', 'Casino', 'A Beautiful Mind', 'The Great Escape', 'The Wolf of Wall Street', \"Pan's Labyrinth\", 'The Secret in Their Eyes', 'There Will Be Blood', 'Lock, Stock and Two Smoking Barrels', 'Judgment at Nuremberg', 'My Neighbor Totoro', 'Raging Bull', 'The Treasure of the Sierra Madre', 'Dial M for Murder', 'Three Billboards Outside Ebbing, Missouri', 'Shutter Island', 'The Gold Rush', 'Chinatown', 'Babam ve Oglum', 'No Country for Old Men', 'V for Vendetta', 'Inside Out', 'The Elephant Man', 'The Thing', 'The Seventh Seal', 'Warrior', 'The Sixth Sense', 'Trainspotting', 'Jurassic Park', 'Klaus', 'The Truman Show', 'Gone with the Wind', 'Finding Nemo', 'Wild Strawberries', 'Stalker', 'Blade Runner', 'Kill Bill: Vol. 1', 'Memories of Murder', 'Fargo', 'The Bridge on the River Kwai', 'Room', 'Wild Tales', 'Gran Torino', 'The Third Man', 'Tokyo Story', 'On the Waterfront', 'The Deer Hunter', 'In the Name of the Father', 'Mary and Max', 'The Grand Budapest Hotel', 'Before Sunrise', 'Gone Girl', 'Catch Me If You Can', 'Hacksaw Ridge', 'Anand', 'Prisoners', 'Persona', 'Andhadhun', 'The Big Lebowski', 'Autumn Sonata', 'Sherlock Jr.', 'To Be or Not to Be', 'The General', 'How to Train Your Dragon', 'Ford v Ferrari', 'Barry Lyndon', '12 Years a Slave', 'The Bandit', 'Mr. Smith Goes to Washington', 'Mad Max: Fury Road', 'Soul', 'Million Dollar Baby', 'Dead Poets Society', 'Network', 'Stand by Me', 'Harry Potter and the Deathly Hallows: Part 2', 'Ben-Hur', \"Hachi: A Dog's Tale\", 'Cool Hand Luke', 'The Handmaiden', 'Platoon', 'Logan', 'Into the Wild', 'Rush', 'The Wages of Fear', \"Monty Python's Life of Brian\", 'La Haine', 'The 400 Blows', 'Spotlight', 'The Passion of Joan of Arc', 'Hotel Rwanda', 'Amores Perros', 'Gangs of Wasseypur', 'Rocky', 'Time of the Gypsies', 'Monsters, Inc.', 'Andrei Rublev', 'Nausicaä of the Valley of the Wind', 'Rebecca', 'Before Sunset', 'Rang De Basanti', 'Rififi', 'In the Mood for Love', 'Paris, Texas', 'Portrait of a Lady on Fire', 'It Happened One Night', 'The Invisible Guest', 'A Silent Voice: The Movie', 'The Help', 'Neon Genesis Evangelion: The End of Evangelion', 'The Battle of Algiers', 'Drishyam', 'Tangerines', 'The Princess Bride']\n"
     ]
    }
   ],
   "source": [
    "print(movie_name)"
   ]
  },
  {
   "cell_type": "markdown",
   "metadata": {},
   "source": [
    "Extracting the year of release for each of the movies and saving them in a list named year_of_release"
   ]
  },
  {
   "cell_type": "code",
   "execution_count": 14,
   "metadata": {},
   "outputs": [],
   "source": [
    "year_of_release = []\n",
    "\n",
    "for i in top250_soup.find_all('td', {'class' : 'titleColumn'}):\n",
    "    for x in i.find_all(\"span\"):\n",
    "        year = x.text\n",
    "        year_of_release.append(year)"
   ]
  },
  {
   "cell_type": "markdown",
   "metadata": {},
   "source": [
    "Printing the contents of list containing year of releaseof all the movies"
   ]
  },
  {
   "cell_type": "code",
   "execution_count": 15,
   "metadata": {},
   "outputs": [
    {
     "name": "stdout",
     "output_type": "stream",
     "text": [
      "['(1994)', '(1972)', '(1974)', '(2008)', '(1957)', '(1993)', '(2003)', '(1994)', '(1966)', '(2001)', '(1999)', '(1994)', '(2010)', '(2002)', '(1980)', '(1999)', '(1990)', '(1975)', '(1954)', '(1995)', '(1997)', '(2002)', '(1991)', '(1946)', '(1977)', '(1998)', '(1999)', '(2001)', '(2014)', '(2019)', '(1994)', '(1995)', '(1962)', '(1994)', '(2002)', '(1985)', '(1991)', '(1998)', '(1936)', '(2000)', '(1960)', '(2006)', '(1931)', '(2011)', '(2014)', '(1988)', '(2006)', '(1968)', '(1942)', '(1988)', '(1954)', '(1979)', '(1979)', '(2000)', '(1940)', '(1981)', '(2020)', '(2012)', '(2006)', '(1957)', '(2019)', '(2008)', '(1980)', '(2018)', '(1950)', '(1957)', '(2003)', '(1997)', '(2018)', '(1964)', '(2012)', '(1984)', '(2016)', '(1986)', '(2017)', '(2019)', '(1999)', '(1995)', '(2018)', '(1981)', '(1995)', '(2009)', '(1963)', '(1984)', '(2009)', '(1983)', '(1997)', '(2007)', '(1992)', '(1968)', '(2000)', '(1958)', '(1931)', '(2012)', '(2004)', '(1941)', '(2016)', '(1987)', '(1948)', '(1952)', '(1921)', '(2000)', '(1959)', '(1971)', '(1985)', '(1983)', '(2019)', '(1952)', '(1976)', '(2010)', '(2010)', '(2011)', '(1962)', '(2001)', '(1973)', '(1927)', '(1965)', '(1960)', '(1944)', '(1962)', '(2009)', '(1989)', '(1995)', '(1997)', '(1988)', '(2018)', '(1975)', '(2005)', '(1961)', '(1950)', '(2004)', '(1997)', '(1992)', '(1985)', '(1959)', '(2004)', '(1950)', '(1995)', '(2001)', '(1963)', '(2013)', '(2006)', '(2009)', '(2007)', '(1998)', '(1961)', '(1988)', '(1980)', '(1948)', '(1954)', '(2017)', '(2010)', '(1925)', '(1974)', '(2005)', '(2007)', '(2005)', '(2015)', '(1980)', '(1982)', '(1957)', '(2011)', '(1999)', '(1996)', '(1993)', '(2019)', '(1998)', '(1939)', '(2003)', '(1957)', '(1979)', '(1982)', '(2003)', '(2003)', '(1996)', '(1957)', '(2015)', '(2014)', '(2008)', '(1949)', '(1953)', '(1954)', '(1978)', '(1993)', '(2009)', '(2014)', '(1995)', '(2014)', '(2002)', '(2016)', '(1971)', '(2013)', '(1966)', '(2018)', '(1998)', '(1978)', '(1924)', '(1942)', '(1926)', '(2010)', '(2019)', '(1975)', '(2013)', '(1996)', '(1939)', '(2015)', '(2020)', '(2004)', '(1989)', '(1976)', '(1986)', '(2011)', '(1959)', '(2009)', '(1967)', '(2016)', '(1986)', '(2017)', '(2007)', '(2013)', '(1953)', '(1979)', '(1995)', '(1959)', '(2015)', '(1928)', '(2004)', '(2000)', '(2012)', '(1976)', '(1988)', '(2001)', '(1966)', '(1984)', '(1940)', '(2004)', '(2006)', '(1955)', '(2000)', '(1984)', '(2019)', '(1934)', '(2016)', '(2016)', '(2011)', '(1997)', '(1966)', '(2015)', '(2013)', '(1987)']\n"
     ]
    }
   ],
   "source": [
    "print(year_of_release)"
   ]
  },
  {
   "cell_type": "markdown",
   "metadata": {},
   "source": [
    "Extracting the imdb rating for each of the movies and saving them in a list named imdb_rating"
   ]
  },
  {
   "cell_type": "code",
   "execution_count": 17,
   "metadata": {},
   "outputs": [],
   "source": [
    "imdb_rating = []\n",
    "\n",
    "for i in top250_soup.findAll('td', {'class' : 'ratingColumn imdbRating'}):\n",
    "    for x in i.find_all('strong'):\n",
    "        rating = x.text\n",
    "        imdb_rating.append(rating)"
   ]
  },
  {
   "cell_type": "markdown",
   "metadata": {},
   "source": [
    "Printing the imdb rating for all the movies"
   ]
  },
  {
   "cell_type": "code",
   "execution_count": 18,
   "metadata": {},
   "outputs": [
    {
     "name": "stdout",
     "output_type": "stream",
     "text": [
      "['9.2', '9.1', '9.0', '9.0', '8.9', '8.9', '8.9', '8.8', '8.8', '8.8', '8.8', '8.8', '8.7', '8.7', '8.7', '8.6', '8.6', '8.6', '8.6', '8.6', '8.6', '8.6', '8.6', '8.6', '8.6', '8.6', '8.5', '8.5', '8.5', '8.5', '8.5', '8.5', '8.5', '8.5', '8.5', '8.5', '8.5', '8.5', '8.5', '8.5', '8.5', '8.5', '8.5', '8.5', '8.5', '8.5', '8.5', '8.4', '8.4', '8.4', '8.4', '8.4', '8.4', '8.4', '8.4', '8.4', '8.4', '8.4', '8.4', '8.4', '8.4', '8.4', '8.4', '8.4', '8.4', '8.4', '8.3', '8.3', '8.3', '8.3', '8.3', '8.3', '8.3', '8.3', '8.3', '8.3', '8.3', '8.3', '8.3', '8.3', '8.3', '8.3', '8.3', '8.3', '8.3', '8.3', '8.3', '8.3', '8.3', '8.3', '8.3', '8.3', '8.3', '8.3', '8.3', '8.3', '8.3', '8.2', '8.2', '8.2', '8.2', '8.2', '8.2', '8.2', '8.2', '8.2', '8.2', '8.2', '8.2', '8.2', '8.2', '8.2', '8.2', '8.2', '8.2', '8.2', '8.2', '8.2', '8.2', '8.2', '8.2', '8.2', '8.2', '8.2', '8.2', '8.2', '8.2', '8.2', '8.2', '8.2', '8.2', '8.2', '8.2', '8.2', '8.2', '8.2', '8.2', '8.2', '8.2', '8.2', '8.2', '8.2', '8.1', '8.1', '8.1', '8.1', '8.1', '8.1', '8.1', '8.1', '8.1', '8.1', '8.1', '8.1', '8.1', '8.1', '8.1', '8.1', '8.1', '8.1', '8.1', '8.1', '8.1', '8.1', '8.1', '8.1', '8.1', '8.1', '8.1', '8.1', '8.1', '8.1', '8.1', '8.1', '8.1', '8.1', '8.1', '8.1', '8.1', '8.1', '8.1', '8.1', '8.1', '8.1', '8.1', '8.1', '8.1', '8.1', '8.1', '8.1', '8.1', '8.1', '8.1', '8.1', '8.1', '8.1', '8.1', '8.1', '8.1', '8.1', '8.1', '8.1', '8.1', '8.1', '8.1', '8.1', '8.1', '8.1', '8.1', '8.1', '8.1', '8.1', '8.1', '8.1', '8.1', '8.1', '8.0', '8.0', '8.0', '8.0', '8.0', '8.0', '8.0', '8.0', '8.0', '8.0', '8.0', '8.0', '8.0', '8.0', '8.0', '8.0', '8.0', '8.0', '8.0', '8.0', '8.0', '8.0', '8.0', '8.0', '8.0', '8.0', '8.0', '8.0', '8.0', '8.0', '8.0', '8.0', '8.0', '8.0']\n"
     ]
    }
   ],
   "source": [
    "print(imdb_rating)"
   ]
  },
  {
   "cell_type": "markdown",
   "metadata": {},
   "source": [
    "Converting the extarcted data into a dataframe so that it is easier to read; however, first we will have to check if the number of elements in the lists are same"
   ]
  },
  {
   "cell_type": "code",
   "execution_count": 25,
   "metadata": {},
   "outputs": [
    {
     "name": "stdout",
     "output_type": "stream",
     "text": [
      "250\n",
      "250\n",
      "250\n"
     ]
    }
   ],
   "source": [
    "print(len(movie_name))\n",
    "print(len(year_of_release))\n",
    "print(len(imdb_rating))"
   ]
  },
  {
   "cell_type": "markdown",
   "metadata": {},
   "source": [
    "Hence, we can go ahead and create a pandas dataframe to view the information in a better format"
   ]
  },
  {
   "cell_type": "code",
   "execution_count": 27,
   "metadata": {},
   "outputs": [],
   "source": [
    "Movie_List_250 = pd.DataFrame({'Name of the movie' : movie_name, 'Year of Release' : year_of_release, 'Imdb Rating' : imdb_rating})"
   ]
  },
  {
   "cell_type": "markdown",
   "metadata": {},
   "source": [
    "Printing the first few rows of newly created dataframe"
   ]
  },
  {
   "cell_type": "code",
   "execution_count": 29,
   "metadata": {},
   "outputs": [
    {
     "name": "stdout",
     "output_type": "stream",
     "text": [
      "          Name of the movie Year of Release Imdb Rating\n",
      "0  The Shawshank Redemption          (1994)         9.2\n",
      "1             The Godfather          (1972)         9.1\n",
      "2    The Godfather: Part II          (1974)         9.0\n",
      "3           The Dark Knight          (2008)         9.0\n",
      "4              12 Angry Men          (1957)         8.9\n"
     ]
    }
   ],
   "source": [
    "print(Movie_List_250.head())"
   ]
  },
  {
   "cell_type": "markdown",
   "metadata": {},
   "source": [
    "Now, exporting the newly created dataframe to an excel file names Movies"
   ]
  },
  {
   "cell_type": "code",
   "execution_count": 33,
   "metadata": {},
   "outputs": [],
   "source": [
    "Movie_List_250.to_excel('Movies.xlsx')"
   ]
  }
 ],
 "metadata": {
  "kernelspec": {
   "display_name": "Python 3",
   "language": "python",
   "name": "python3"
  },
  "language_info": {
   "codemirror_mode": {
    "name": "ipython",
    "version": 3
   },
   "file_extension": ".py",
   "mimetype": "text/x-python",
   "name": "python",
   "nbconvert_exporter": "python",
   "pygments_lexer": "ipython3",
   "version": "3.7.4"
  }
 },
 "nbformat": 4,
 "nbformat_minor": 2
}
